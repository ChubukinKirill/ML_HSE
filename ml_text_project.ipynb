{
  "cells": [
    {
      "cell_type": "markdown",
      "metadata": {
        "id": "Ffq6A2-ifzAA"
      },
      "source": [
        "\n",
        "# Классификация текстов"
      ]
    },
    {
      "cell_type": "markdown",
      "metadata": {
        "id": "itRtFtrOf0_b"
      },
      "source": [
        "Будем предсказывать эмоциональную окраску твиттов о коронавирусе."
      ]
    },
    {
      "cell_type": "code",
      "execution_count": 1,
      "metadata": {
        "id": "tNGRVO7_g9mz"
      },
      "outputs": [],
      "source": [
        "import numpy as np\n",
        "import pandas as pd\n",
        "from typing import  List\n",
        "import matplotlib.pyplot as plt\n",
        "import seaborn as sns\n",
        "from string import punctuation"
      ]
    },
    {
      "cell_type": "code",
      "execution_count": 2,
      "metadata": {
        "colab": {
          "base_uri": "https://localhost:8080/",
          "height": 174
        },
        "id": "zOy8iHJQg_Ss",
        "outputId": "01951c93-1976-4fd2-b432-f9ec217dbd17"
      },
      "outputs": [
        {
          "data": {
            "text/html": [
              "<div>\n",
              "<style scoped>\n",
              "    .dataframe tbody tr th:only-of-type {\n",
              "        vertical-align: middle;\n",
              "    }\n",
              "\n",
              "    .dataframe tbody tr th {\n",
              "        vertical-align: top;\n",
              "    }\n",
              "\n",
              "    .dataframe thead th {\n",
              "        text-align: right;\n",
              "    }\n",
              "</style>\n",
              "<table border=\"1\" class=\"dataframe\">\n",
              "  <thead>\n",
              "    <tr style=\"text-align: right;\">\n",
              "      <th></th>\n",
              "      <th>UserName</th>\n",
              "      <th>ScreenName</th>\n",
              "      <th>Location</th>\n",
              "      <th>TweetAt</th>\n",
              "      <th>OriginalTweet</th>\n",
              "      <th>Sentiment</th>\n",
              "    </tr>\n",
              "  </thead>\n",
              "  <tbody>\n",
              "    <tr>\n",
              "      <th>12874</th>\n",
              "      <td>19413</td>\n",
              "      <td>64365</td>\n",
              "      <td>Dallas, TX</td>\n",
              "      <td>22-03-2020</td>\n",
              "      <td>Well...I made meals for days...ate at least ha...</td>\n",
              "      <td>Positive</td>\n",
              "    </tr>\n",
              "    <tr>\n",
              "      <th>4922</th>\n",
              "      <td>9775</td>\n",
              "      <td>54727</td>\n",
              "      <td>Nawabshah, Pakistan ,china</td>\n",
              "      <td>19-03-2020</td>\n",
              "      <td>I really admire the effort of PPP chairman @BB...</td>\n",
              "      <td>Extremely Positive</td>\n",
              "    </tr>\n",
              "    <tr>\n",
              "      <th>5589</th>\n",
              "      <td>10585</td>\n",
              "      <td>55537</td>\n",
              "      <td>Bangalore</td>\n",
              "      <td>19-03-2020</td>\n",
              "      <td>@hormazdsorabjee Good decision and well though...</td>\n",
              "      <td>Extremely Positive</td>\n",
              "    </tr>\n",
              "    <tr>\n",
              "      <th>20215</th>\n",
              "      <td>28450</td>\n",
              "      <td>73402</td>\n",
              "      <td>Oxford, England</td>\n",
              "      <td>27-03-2020</td>\n",
              "      <td>Being raced to the queue to get into our super...</td>\n",
              "      <td>Positive</td>\n",
              "    </tr>\n",
              "  </tbody>\n",
              "</table>\n",
              "</div>"
            ],
            "text/plain": [
              "       UserName  ScreenName                    Location     TweetAt  \\\n",
              "12874     19413       64365                  Dallas, TX  22-03-2020   \n",
              "4922       9775       54727  Nawabshah, Pakistan ,china  19-03-2020   \n",
              "5589      10585       55537                   Bangalore  19-03-2020   \n",
              "20215     28450       73402             Oxford, England  27-03-2020   \n",
              "\n",
              "                                           OriginalTweet           Sentiment  \n",
              "12874  Well...I made meals for days...ate at least ha...            Positive  \n",
              "4922   I really admire the effort of PPP chairman @BB...  Extremely Positive  \n",
              "5589   @hormazdsorabjee Good decision and well though...  Extremely Positive  \n",
              "20215  Being raced to the queue to get into our super...            Positive  "
            ]
          },
          "execution_count": 2,
          "metadata": {},
          "output_type": "execute_result"
        }
      ],
      "source": [
        "df = pd.read_csv('tweets_coronavirus.csv', encoding='latin-1')\n",
        "df.sample(4)"
      ]
    },
    {
      "cell_type": "markdown",
      "metadata": {
        "id": "m2OiDog9ZBlS"
      },
      "source": [
        "Для каждого твитта указано:\n",
        "\n",
        "\n",
        "*   UserName - имя пользователя, заменено на целое число для анонимности\n",
        "*   ScreenName - отображающееся имя пользователя, заменено на целое число для анонимности\n",
        "*   Location - местоположение\n",
        "*   TweetAt - дата создания твитта\n",
        "*   OriginalTweet - текст твитта\n",
        "*   Sentiment - эмоциональная окраска твитта (целевая переменная)\n",
        "\n"
      ]
    },
    {
      "cell_type": "markdown",
      "metadata": {
        "id": "Xx2-odn9hdAW"
      },
      "source": [
        "Целевая переменная находится в колонке `Sentiment`.  Преобразуем ее таким образом, чтобы она стала бинарной: 1 - если у твитта положительная эмоциональная окраска и 0 - если отрицательная."
      ]
    },
    {
      "cell_type": "code",
      "execution_count": 3,
      "metadata": {
        "id": "ZaQKQ1zEjP15"
      },
      "outputs": [
        {
          "data": {
            "text/html": [
              "<div>\n",
              "<style scoped>\n",
              "    .dataframe tbody tr th:only-of-type {\n",
              "        vertical-align: middle;\n",
              "    }\n",
              "\n",
              "    .dataframe tbody tr th {\n",
              "        vertical-align: top;\n",
              "    }\n",
              "\n",
              "    .dataframe thead th {\n",
              "        text-align: right;\n",
              "    }\n",
              "</style>\n",
              "<table border=\"1\" class=\"dataframe\">\n",
              "  <thead>\n",
              "    <tr style=\"text-align: right;\">\n",
              "      <th></th>\n",
              "      <th>UserName</th>\n",
              "      <th>ScreenName</th>\n",
              "      <th>Location</th>\n",
              "      <th>TweetAt</th>\n",
              "      <th>OriginalTweet</th>\n",
              "      <th>Sentiment</th>\n",
              "    </tr>\n",
              "  </thead>\n",
              "  <tbody>\n",
              "    <tr>\n",
              "      <th>0</th>\n",
              "      <td>3800</td>\n",
              "      <td>48752</td>\n",
              "      <td>UK</td>\n",
              "      <td>16-03-2020</td>\n",
              "      <td>advice Talk to your neighbours family to excha...</td>\n",
              "      <td>1</td>\n",
              "    </tr>\n",
              "    <tr>\n",
              "      <th>1</th>\n",
              "      <td>3801</td>\n",
              "      <td>48753</td>\n",
              "      <td>Vagabonds</td>\n",
              "      <td>16-03-2020</td>\n",
              "      <td>Coronavirus Australia: Woolworths to give elde...</td>\n",
              "      <td>1</td>\n",
              "    </tr>\n",
              "    <tr>\n",
              "      <th>2</th>\n",
              "      <td>3802</td>\n",
              "      <td>48754</td>\n",
              "      <td>NaN</td>\n",
              "      <td>16-03-2020</td>\n",
              "      <td>My food stock is not the only one which is emp...</td>\n",
              "      <td>1</td>\n",
              "    </tr>\n",
              "    <tr>\n",
              "      <th>3</th>\n",
              "      <td>3803</td>\n",
              "      <td>48755</td>\n",
              "      <td>NaN</td>\n",
              "      <td>16-03-2020</td>\n",
              "      <td>Me, ready to go at supermarket during the #COV...</td>\n",
              "      <td>0</td>\n",
              "    </tr>\n",
              "    <tr>\n",
              "      <th>4</th>\n",
              "      <td>3804</td>\n",
              "      <td>48756</td>\n",
              "      <td>ÃÂT: 36.319708,-82.363649</td>\n",
              "      <td>16-03-2020</td>\n",
              "      <td>As news of the regionÃÂs first confirmed COV...</td>\n",
              "      <td>1</td>\n",
              "    </tr>\n",
              "  </tbody>\n",
              "</table>\n",
              "</div>"
            ],
            "text/plain": [
              "   UserName  ScreenName                     Location     TweetAt  \\\n",
              "0      3800       48752                           UK  16-03-2020   \n",
              "1      3801       48753                    Vagabonds  16-03-2020   \n",
              "2      3802       48754                          NaN  16-03-2020   \n",
              "3      3803       48755                          NaN  16-03-2020   \n",
              "4      3804       48756  ÃÂT: 36.319708,-82.363649  16-03-2020   \n",
              "\n",
              "                                       OriginalTweet  Sentiment  \n",
              "0  advice Talk to your neighbours family to excha...          1  \n",
              "1  Coronavirus Australia: Woolworths to give elde...          1  \n",
              "2  My food stock is not the only one which is emp...          1  \n",
              "3  Me, ready to go at supermarket during the #COV...          0  \n",
              "4  As news of the regionÃÂs first confirmed COV...          1  "
            ]
          },
          "execution_count": 3,
          "metadata": {},
          "output_type": "execute_result"
        }
      ],
      "source": [
        "df['Sentiment'] = df['Sentiment'].apply(lambda x: 1 if 'Positive' in x else 0)\n",
        "df.head()"
      ]
    },
    {
      "cell_type": "markdown",
      "metadata": {
        "id": "pGq1FxJ-kBo5"
      },
      "source": [
        "Посмотрим на баланс классов"
      ]
    },
    {
      "cell_type": "code",
      "execution_count": 4,
      "metadata": {
        "id": "a7gdNtxckK5V"
      },
      "outputs": [
        {
          "data": {
            "text/plain": [
              "Sentiment\n",
              "1    18046\n",
              "0    15398\n",
              "Name: count, dtype: int64"
            ]
          },
          "execution_count": 4,
          "metadata": {},
          "output_type": "execute_result"
        }
      ],
      "source": [
        "df['Sentiment'].value_counts()"
      ]
    },
    {
      "cell_type": "markdown",
      "metadata": {
        "id": "Ng8BCelMkWb0"
      },
      "source": [
        "Позитивных 54% негативных 46% данные считаются сбалансированными"
      ]
    },
    {
      "cell_type": "code",
      "execution_count": 5,
      "metadata": {
        "id": "UhUVRkR5kxa7"
      },
      "outputs": [
        {
          "data": {
            "text/plain": [
              "UserName            0\n",
              "ScreenName          0\n",
              "Location         7049\n",
              "TweetAt             0\n",
              "OriginalTweet       0\n",
              "Sentiment           0\n",
              "dtype: int64"
            ]
          },
          "execution_count": 5,
          "metadata": {},
          "output_type": "execute_result"
        }
      ],
      "source": [
        "missing_info = df.isnull().sum()\n",
        "missing_info"
      ]
    },
    {
      "cell_type": "code",
      "execution_count": 6,
      "metadata": {},
      "outputs": [
        {
          "data": {
            "text/plain": [
              "UserName         0\n",
              "ScreenName       0\n",
              "Location         0\n",
              "TweetAt          0\n",
              "OriginalTweet    0\n",
              "Sentiment        0\n",
              "dtype: int64"
            ]
          },
          "execution_count": 6,
          "metadata": {},
          "output_type": "execute_result"
        }
      ],
      "source": [
        "df['Location'] = df['Location'].fillna('Unknown')\n",
        "df.isnull().sum()"
      ]
    },
    {
      "cell_type": "markdown",
      "metadata": {
        "id": "1tzt27tfjUpq"
      },
      "source": [
        "Разделим данные на обучающие и тестовые в соотношении 7 : 3 и `random_state=0`"
      ]
    },
    {
      "cell_type": "code",
      "execution_count": 7,
      "metadata": {
        "id": "xSLOA9tIj9Z6"
      },
      "outputs": [
        {
          "data": {
            "text/plain": [
              "((23410,), (10034,), (23410,), (10034,))"
            ]
          },
          "execution_count": 7,
          "metadata": {},
          "output_type": "execute_result"
        }
      ],
      "source": [
        "from sklearn.model_selection import train_test_split\n",
        "\n",
        "X_train, X_test, y_train, y_test = train_test_split(\n",
        "    df['OriginalTweet'],\n",
        "    df['Sentiment'],\n",
        "    test_size=0.3,\n",
        "    random_state=0\n",
        ")\n",
        "X_train.shape, X_test.shape, y_train.shape, y_test.shape"
      ]
    },
    {
      "cell_type": "markdown",
      "metadata": {
        "id": "2Dz_b7Xopc_R"
      },
      "source": [
        "Построим словарь на основе обучающей выборки и посчитайте количество встреч каждого токена с использованием самой простой токенизации - деления текстов по пробельным символам и приведение токенов в нижний регистр"
      ]
    },
    {
      "cell_type": "code",
      "execution_count": 8,
      "metadata": {
        "id": "SFr67WOJphny"
      },
      "outputs": [],
      "source": [
        "from collections import Counter\n",
        "\n",
        "def simple_tokenizer(text):\n",
        "    tokens = text.lower().split()\n",
        "    return tokens\n",
        "\n",
        "token_counter = Counter()\n",
        "\n",
        "for tweet in X_train:\n",
        "    tokens = simple_tokenizer(tweet)\n",
        "    token_counter.update(tokens)\n"
      ]
    },
    {
      "cell_type": "markdown",
      "metadata": {
        "id": "Pe0h2Jqkpnao"
      },
      "source": [
        "Размер словаря"
      ]
    },
    {
      "cell_type": "code",
      "execution_count": 9,
      "metadata": {
        "id": "umyENA7EpokD"
      },
      "outputs": [
        {
          "data": {
            "text/plain": [
              "79755"
            ]
          },
          "execution_count": 9,
          "metadata": {},
          "output_type": "execute_result"
        }
      ],
      "source": [
        "len(token_counter)"
      ]
    },
    {
      "cell_type": "markdown",
      "metadata": {
        "id": "0d2G1Z-Qpqkd"
      },
      "source": [
        "Выведим 10 самых популярных токенов с количеством встреч каждого из них"
      ]
    },
    {
      "cell_type": "code",
      "execution_count": 10,
      "metadata": {
        "id": "Impi32a_pssg"
      },
      "outputs": [
        {
          "data": {
            "text/plain": [
              "[('the', 26815),\n",
              " ('to', 23373),\n",
              " ('and', 14684),\n",
              " ('of', 13012),\n",
              " ('a', 11737),\n",
              " ('in', 11198),\n",
              " ('for', 8566),\n",
              " ('#coronavirus', 8223),\n",
              " ('is', 7383),\n",
              " ('are', 7050)]"
            ]
          },
          "execution_count": 10,
          "metadata": {},
          "output_type": "execute_result"
        }
      ],
      "source": [
        "token_counter.most_common(10)"
      ]
    },
    {
      "cell_type": "markdown",
      "metadata": {
        "id": "ZtuJCD0ApuFd"
      },
      "source": [
        "Эти слова в основном являются часто используемыми служебными или функциональными словами в английском языке: артикли, союзы, предлоги и глаголы-связки. Они широко встречаются в любых текстах независимо от их тематики. Исключение составляет хештег #coronavirus, который в данной тематике встречается часто, потому что обсуждается непосредственно коронавирус."
      ]
    },
    {
      "cell_type": "markdown",
      "metadata": {
        "id": "T7DTQDkWsVYp"
      },
      "source": [
        "Удалим стоп-слова из словаря и выведите новый топ-10 токенов (и количество встреч) по популярности."
      ]
    },
    {
      "cell_type": "code",
      "execution_count": 11,
      "metadata": {
        "id": "8csSAdgTsnFx"
      },
      "outputs": [
        {
          "name": "stderr",
          "output_type": "stream",
          "text": [
            "[nltk_data] Downloading package stopwords to\n",
            "[nltk_data]     C:\\Users\\BRIGPC\\AppData\\Roaming\\nltk_data...\n",
            "[nltk_data]   Package stopwords is already up-to-date!\n"
          ]
        },
        {
          "data": {
            "text/plain": [
              "[('#coronavirus', 8223),\n",
              " ('prices', 3891),\n",
              " ('food', 3820),\n",
              " ('grocery', 3469),\n",
              " ('supermarket', 3288),\n",
              " ('people', 3175),\n",
              " ('covid-19', 3173),\n",
              " ('store', 3155),\n",
              " ('#covid19', 2471),\n",
              " ('&amp;', 2314)]"
            ]
          },
          "execution_count": 11,
          "metadata": {},
          "output_type": "execute_result"
        }
      ],
      "source": [
        "import nltk\n",
        "from nltk.corpus import stopwords\n",
        "\n",
        "# Загрузка списка стоп-слов\n",
        "nltk.download('stopwords')\n",
        "stop_words = set(stopwords.words('english'))\n",
        "\n",
        "# Удаление стоп-слов из словаря токенов\n",
        "filtered_token_counter = Counter({token: count for token, count in token_counter.items() if token not in stop_words})\n",
        "\n",
        "# Получение нового списка 10 наиболее частых токенов после удаления стоп-слов\n",
        "new_most_common_tokens = filtered_token_counter.most_common(10)\n",
        "new_most_common_tokens"
      ]
    },
    {
      "cell_type": "code",
      "execution_count": 12,
      "metadata": {},
      "outputs": [
        {
          "name": "stdout",
          "output_type": "stream",
          "text": [
            "{'through', 'both', 'and', 'in', \"shouldn't\", 'down', 'when', 'so', 'haven', 'isn', 'on', \"hadn't\", 'wasn', 'shouldn', 'yourselves', 'again', 't', 'the', \"you'll\", 'its', 'doesn', 'him', 'doing', 'once', 'my', 'i', 'our', 'be', \"wasn't\", 'ma', 'against', 'here', 'them', \"she's\", 'am', 'has', 'don', 'very', 'who', \"shan't\", 'is', 'about', 'to', 'not', 'her', 'until', \"needn't\", 'are', 'hadn', 'did', 'himself', 'should', 'nor', \"mightn't\", 'an', 'own', 'you', \"that'll\", 'me', 'herself', 'all', 'weren', 'needn', 'if', 'only', \"you'd\", 'yours', 'll', 'hasn', 'now', \"mustn't\", 'does', 'above', 'further', 'whom', 'out', 'over', 'because', 'been', 'were', \"isn't\", 'same', 'but', 'how', 'mightn', 'no', 'between', 'we', 'into', 'each', 'mustn', 'aren', 'then', \"weren't\", 'couldn', \"hasn't\", 'won', 'myself', \"don't\", 'do', 'up', 've', \"won't\", \"should've\", 'more', 'his', 'didn', 'have', 'at', 'theirs', \"doesn't\", 'after', \"haven't\", \"wouldn't\", 'will', 'ours', 'there', 'most', 'from', 'too', 'any', 'having', 'what', 'just', 'your', 'a', 'before', 'which', 'this', 'by', 'm', 'hers', 'being', 'themselves', 'they', 'those', 'than', 'or', 'such', 'off', 'ourselves', 'o', 'she', 'of', 'shan', 'y', 'their', 's', 'during', 'yourself', 'was', 'with', 'can', 'd', \"couldn't\", 'ain', \"aren't\", 'wouldn', \"you're\", \"it's\", 'that', 'he', 'these', 'under', 'few', 'for', 'while', 'had', 'itself', 're', \"didn't\", 'it', 'why', 'below', 'where', 'some', 'as', 'other', \"you've\"}\n"
          ]
        }
      ],
      "source": [
        "print(stop_words)"
      ]
    },
    {
      "cell_type": "markdown",
      "metadata": {
        "id": "LZH0x2Lzs-Dh"
      },
      "source": [
        "Этот список лучше отражает специфику текстов твитов, связанных с коронавирусом, включая упоминания важных тем, таких как продовольственные магазины, цены и сам вирус. Здесь видно, что более значимые и контекстно-релевантные токены вышли на первый план, в отличие от общих и менее информативных слов, которые были удалены из списка стоп-словами."
      ]
    },
    {
      "cell_type": "markdown",
      "metadata": {
        "id": "TKSGRyI-uor0"
      },
      "source": [
        "Также выведем 20 самых непопулярных слов (если самых непопулярных слов больше выведите любые 20 из них)"
      ]
    },
    {
      "cell_type": "code",
      "execution_count": 13,
      "metadata": {
        "id": "moArbwfvun9t"
      },
      "outputs": [
        {
          "data": {
            "text/plain": [
              "[('skellig', 1),\n",
              " ('coast!', 1),\n",
              " ('closer!)', 1),\n",
              " ('@skelligsix18', 1),\n",
              " ('#skelligcoast2kms', 1),\n",
              " ('#southkerry', 1),\n",
              " ('https://t.co/zjcl195vqs', 1),\n",
              " ('@srinivasiyc', 1),\n",
              " ('https://t.co/iaek4fwsgz', 1),\n",
              " ('premiership', 1),\n",
              " ('non-playing', 1),\n",
              " ('subsidise', 1),\n",
              " ('playersã\\x82â\\x92', 1),\n",
              " ('renewing', 1),\n",
              " ('wage!', 1),\n",
              " ('flew', 1),\n",
              " ('nothing...', 1),\n",
              " ('@torontopearson', 1),\n",
              " ('@680news', 1),\n",
              " ('https://t.co/7j2y3rsld9', 1)]"
            ]
          },
          "execution_count": 13,
          "metadata": {},
          "output_type": "execute_result"
        }
      ],
      "source": [
        "least_common_tokens = filtered_token_counter.most_common()[-20:]\n",
        "least_common_tokens"
      ]
    },
    {
      "cell_type": "markdown",
      "metadata": {
        "id": "uRp3J1gQunlR"
      },
      "source": [
        "Эти токены непопулярны, потому что они уникальны для конкретных твитов и не несут общей информативной нагрузки для анализа или классификации текстов на больших объемах данных.\n",
        "\n",
        "Дополнительная работа с ними:\n",
        "URL-адреса обычно удаляются из текстов перед анализом, поскольку они редко несут смысловую нагрузку, полезную для задач NLP, кроме специфических случаев.\n",
        "Имена пользователей также часто удаляются или заменяются токеном (например, <USER>), так как они могут исказить анализ текста.\n",
        "Случайные символы и специфические слова могут быть удалены или корректно обработаны в рамках предобработки текста, особенно если они появляются редко и не влияют на общий смысл текста."
      ]
    },
    {
      "cell_type": "markdown",
      "metadata": {
        "id": "wx9LQOSPzvjV"
      },
      "source": [
        "Теперь воспользуемся токенайзером получше - TweetTokenizer из библиотеки nltk. Применим его и посмотрим на топ-10 популярных слов"
      ]
    },
    {
      "cell_type": "code",
      "execution_count": 14,
      "metadata": {
        "id": "2G1UkyVxzvFY"
      },
      "outputs": [
        {
          "data": {
            "text/plain": [
              "[('.', 24118),\n",
              " (',', 17571),\n",
              " ('?', 9524),\n",
              " ('#coronavirus', 8808),\n",
              " ('â', 7415),\n",
              " ('\\x82', 7311),\n",
              " ('19', 7167),\n",
              " ('-', 6643),\n",
              " ('covid', 6253),\n",
              " ('prices', 4601)]"
            ]
          },
          "execution_count": 14,
          "metadata": {},
          "output_type": "execute_result"
        }
      ],
      "source": [
        "from nltk.tokenize import TweetTokenizer\n",
        "\n",
        "tweet_tokenizer = TweetTokenizer()\n",
        "\n",
        "tweet_token_counter = Counter()\n",
        "\n",
        "for tweet in X_train:\n",
        "    tokens = tweet_tokenizer.tokenize(tweet.lower())\n",
        "    tweet_token_counter.update(tokens)\n",
        "\n",
        "filtered_tweet_token_counter = Counter({token: count for token, count in tweet_token_counter.items() if token not in stop_words})\n",
        "\n",
        "new_most_common_tweet_tokens = filtered_tweet_token_counter.most_common(10)\n",
        "new_most_common_tweet_tokens\n"
      ]
    },
    {
      "cell_type": "markdown",
      "metadata": {
        "id": "50eVUnJN1Zxl"
      },
      "source": [
        "В этом списке присутствуют знаки препинания (., ,, ?), которые не были включены в предыдущие анализы. Это указывает на особенность TweetTokenizer разбирать и сохранять пунктуацию как отдельные токены.\n",
        "Также присутствуют символы кодировки (â, \\x82), что может указывать на проблемы с обработкой исходных данных или особенности кодирования в источнике данных.\n",
        "В список вошли отдельные компоненты часто упоминаемых терминов (например, 19 из COVID-19 и covid отдельно), что свидетельствует о способности TweetTokenizer эффективно разделять составные слова."
      ]
    },
    {
      "cell_type": "markdown",
      "metadata": {
        "id": "1gqQgiMs11bs"
      },
      "source": [
        "Удалим из словаря стоп-слова и пунктуацию, посмотрим на новый топ-10 слов с количеством встреч"
      ]
    },
    {
      "cell_type": "code",
      "execution_count": 15,
      "metadata": {
        "id": "0yHWdFrp0Mup"
      },
      "outputs": [
        {
          "data": {
            "text/plain": [
              "[('#coronavirus', 8808),\n",
              " ('â', 7415),\n",
              " ('\\x82', 7311),\n",
              " ('19', 7167),\n",
              " ('covid', 6253),\n",
              " ('prices', 4601),\n",
              " ('\\x92', 4372),\n",
              " ('food', 4367),\n",
              " ('store', 3877),\n",
              " ('supermarket', 3805)]"
            ]
          },
          "execution_count": 15,
          "metadata": {},
          "output_type": "execute_result"
        }
      ],
      "source": [
        "from string import punctuation\n",
        "\n",
        "stop_words.update(set(punctuation))\n",
        "\n",
        "filtered_tweet_token_counter_clean = Counter(\n",
        "    {token: count for token, count in tweet_token_counter.items() if token not in stop_words}\n",
        ")\n",
        "\n",
        "new_most_common_tweet_tokens_clean = filtered_tweet_token_counter_clean.most_common(10)\n",
        "new_most_common_tweet_tokens_clean\n"
      ]
    },
    {
      "cell_type": "markdown",
      "metadata": {
        "id": "8ZJqXELP_Yxy"
      },
      "source": [
        "â, \\x82, и \\x92 — это символы, связанные с ошибками кодировки. Это часто происходит при неправильной обработке текстов, сохраненных в разных кодировках. Такие токены не несут смысловой нагрузки и могут быть удалены."
      ]
    },
    {
      "cell_type": "markdown",
      "metadata": {
        "id": "rzXjMsSB_kXB"
      },
      "source": [
        "Удалим из словаря токены из одного символа, с позицией в таблице Unicode 128 и более (`ord(x) >= 128`)"
      ]
    },
    {
      "cell_type": "code",
      "execution_count": 16,
      "metadata": {
        "id": "1695hlkS_1-J"
      },
      "outputs": [
        {
          "data": {
            "text/plain": [
              "([('#coronavirus', 8808),\n",
              "  ('19', 7167),\n",
              "  ('covid', 6253),\n",
              "  ('prices', 4601),\n",
              "  ('food', 4367),\n",
              "  ('store', 3877),\n",
              "  ('supermarket', 3805),\n",
              "  ('grocery', 3523),\n",
              "  ('people', 3463),\n",
              "  ('#covid19', 2589)],\n",
              " [('https://t.co/pd6ual9yfi', 1),\n",
              "  ('https://t.co/lw1r0rm7xs', 1),\n",
              "  ('https://t.co/5cbliqzx7l', 1),\n",
              "  ('now.when', 1),\n",
              "  ('milion', 1),\n",
              "  ('skellig', 1),\n",
              "  ('@skelligsix18', 1),\n",
              "  ('#skelligcoast2kms', 1),\n",
              "  ('#southkerry', 1),\n",
              "  ('https://t.co/zjcl195vqs', 1),\n",
              "  ('@srinivasiyc', 1),\n",
              "  ('https://t.co/iaek4fwsgz', 1),\n",
              "  ('premiership', 1),\n",
              "  ('non-playing', 1),\n",
              "  ('subsidise', 1),\n",
              "  ('renewing', 1),\n",
              "  ('flew', 1),\n",
              "  ('@torontopearson', 1),\n",
              "  ('@680news', 1),\n",
              "  ('https://t.co/7j2y3rsld9', 1)])"
            ]
          },
          "execution_count": 16,
          "metadata": {},
          "output_type": "execute_result"
        }
      ],
      "source": [
        "# Удаление токенов из одного символа и токенов с кодом Unicode 128 и выше\n",
        "filtered_tweet_token_counter_final = Counter(\n",
        "    {token: count for token, count in filtered_tweet_token_counter_clean.items() if len(token) > 1 and all(ord(char) < 128 for char in token)}\n",
        ")\n",
        "\n",
        "top_10_most_common = filtered_tweet_token_counter_final.most_common(10)\n",
        "top_20_least_common = filtered_tweet_token_counter_final.most_common()[-20:]\n",
        "\n",
        "top_10_most_common, top_20_least_common\n"
      ]
    },
    {
      "cell_type": "markdown",
      "metadata": {
        "id": "KzjHAKIlDvc6"
      },
      "source": [
        "Лучше: Топ-10 после применения TweetTokenizer и дополнительной фильтрации показывает большую релевантность и специфичность для контекста данных (твиты о COVID-19). Токены более информативные и специфичные, например, #coronavirus, covid, supermarket.\n",
        "Хуже: В топ-20 наименее популярных слов входят множество URL и специфических идентификаторов, которые малоинформативны для анализа сентимента или общих тенденций в данных. Это может быть признаком необходимости дополнительной предобработки данных."
      ]
    },
    {
      "cell_type": "markdown",
      "metadata": {
        "id": "EcDf9_6HB2zm"
      },
      "source": [
        "Выведем топ-10 популярных хештегов с количеством встреч"
      ]
    },
    {
      "cell_type": "code",
      "execution_count": 17,
      "metadata": {
        "id": "zk4fygCUBw3l"
      },
      "outputs": [
        {
          "data": {
            "text/plain": [
              "[('#coronavirus', 8808),\n",
              " ('#covid19', 2589),\n",
              " ('#covid_19', 1734),\n",
              " ('#covid2019', 946),\n",
              " ('#toiletpaper', 744),\n",
              " ('#covid', 641),\n",
              " ('#socialdistancing', 465),\n",
              " ('#coronacrisis', 448),\n",
              " ('#pandemic', 257),\n",
              " ('#coronaviruspandemic', 249)]"
            ]
          },
          "execution_count": 17,
          "metadata": {},
          "output_type": "execute_result"
        }
      ],
      "source": [
        "hashtag_counter = Counter({token: count for token, count in filtered_tweet_token_counter_final.items() if token.startswith('#')})\n",
        "\n",
        "hashtag_counter.most_common(10)"
      ]
    },
    {
      "cell_type": "markdown",
      "metadata": {
        "id": "-6NeNWBkDxM7"
      },
      "source": [
        "Все хештеги тесно связаны с тематикой коронавируса, что подчеркивает специфику данных — твиты о COVID-19 и сопутствующих обстоятельствах."
      ]
    },
    {
      "cell_type": "markdown",
      "metadata": {
        "id": "LLYBg7caD5GA"
      },
      "source": [
        "То же самое проделаем для ссылок на сайт https://t.co"
      ]
    },
    {
      "cell_type": "code",
      "execution_count": 18,
      "metadata": {
        "id": "MXbm1oeaCK9S"
      },
      "outputs": [
        {
          "data": {
            "text/plain": [
              "[('https://t.co/oxa7swtond', 5),\n",
              " ('https://t.co/gp3eusapl8', 4),\n",
              " ('https://t.co/wrlhyzizaa', 3),\n",
              " ('https://t.co/kuwipf1kqw', 3),\n",
              " ('https://t.co/zjnrx6dkkn', 3),\n",
              " ('https://t.co/3gbbdpdjat', 3),\n",
              " ('https://t.co/e2znxajpre', 3),\n",
              " ('https://t.co/catkegayoy', 3),\n",
              " ('https://t.co/g63rp042ho', 3),\n",
              " ('https://t.co/aziqcdgrnn', 3)]"
            ]
          },
          "execution_count": 18,
          "metadata": {},
          "output_type": "execute_result"
        }
      ],
      "source": [
        "tco_link_counter = Counter({token: count for token, count in filtered_tweet_token_counter_final.items() if token.startswith('https://t.co')})\n",
        "\n",
        "tco_link_counter.most_common(10)"
      ]
    },
    {
      "cell_type": "markdown",
      "metadata": {
        "id": "at6lRYZ8A07N"
      },
      "source": [
        "Ссылки на сайт https://t.co встречаются гораздо реже, чем основные хештеги. Полезности не будет"
      ]
    },
    {
      "cell_type": "markdown",
      "metadata": {
        "id": "IOGdUU1kBU1D"
      },
      "source": [
        "Используем опыт предыдущих экспериментов и напишем собственный токенайзер, улучшив TweetTokenizer. Функция tokenize должна:\n",
        "\n",
        "\n",
        "\n",
        "*   Привести текст в нижний регистр\n",
        "*   Применить TweetTokenizer для изначального выделения токенов\n",
        "*   Удалить стоп-слова, пунктуацию, токены из одного символа, с позицией в таблице Unicode 128 и более и ссылки на t.co\n",
        "\n"
      ]
    },
    {
      "cell_type": "code",
      "execution_count": 19,
      "metadata": {
        "id": "ctEsB6xkFrrK"
      },
      "outputs": [],
      "source": [
        "def custom_tokenizer(text):\n",
        "    text = text.lower()\n",
        "    \n",
        "    tokenizer = TweetTokenizer()\n",
        "    initial_tokens = tokenizer.tokenize(text)\n",
        "    \n",
        "    tokens = [\n",
        "        token for token in initial_tokens\n",
        "        if token not in stop_words\n",
        "        and token not in punctuation\n",
        "        and len(token) > 1\n",
        "        and all(ord(char) < 128 for char in token)\n",
        "        and not token.startswith('https://t.co')\n",
        "    ]\n",
        "    \n",
        "    return tokens\n"
      ]
    },
    {
      "cell_type": "code",
      "execution_count": 20,
      "metadata": {
        "colab": {
          "base_uri": "https://localhost:8080/"
        },
        "id": "XwbgtYkJGYym",
        "outputId": "5808765b-3448-45e6-ccc1-7cd65f6371ef"
      },
      "outputs": [
        {
          "data": {
            "text/plain": [
              "['sample', 'text', '@sample_text', '#sampletext']"
            ]
          },
          "execution_count": 20,
          "metadata": {},
          "output_type": "execute_result"
        }
      ],
      "source": [
        "custom_tokenizer('This is sample text!!!! @Sample_text I, \\x92\\x92 https://t.co/sample  #sampletext')"
      ]
    },
    {
      "cell_type": "markdown",
      "metadata": {
        "id": "wURVABmXHk97"
      },
      "source": [
        "## Векторизация текстов"
      ]
    },
    {
      "cell_type": "markdown",
      "metadata": {
        "id": "H44iXkoHIQfN"
      },
      "source": [
        "Обучим CountVectorizer с использованием custom_tokenizer в качестве токенайзера"
      ]
    },
    {
      "cell_type": "code",
      "execution_count": 21,
      "metadata": {
        "colab": {
          "base_uri": "https://localhost:8080/"
        },
        "id": "gHn_limQl3BI",
        "outputId": "8e9c1826-319f-4376-f06e-c30c2eb82648"
      },
      "outputs": [
        {
          "name": "stderr",
          "output_type": "stream",
          "text": [
            "c:\\Users\\BRIGPC\\AppData\\Local\\Programs\\Python\\Python312\\Lib\\site-packages\\sklearn\\feature_extraction\\text.py:525: UserWarning: The parameter 'token_pattern' will not be used since 'tokenizer' is not None'\n",
            "  warnings.warn(\n"
          ]
        },
        {
          "name": "stdout",
          "output_type": "stream",
          "text": [
            "44104\n"
          ]
        }
      ],
      "source": [
        "from sklearn.feature_extraction.text import CountVectorizer\n",
        "\n",
        "cv = CountVectorizer(tokenizer=custom_tokenizer)\n",
        "cv.fit(X_train)\n",
        "\n",
        "print(len(cv.vocabulary_))"
      ]
    },
    {
      "cell_type": "markdown",
      "metadata": {
        "id": "lm6UHNmqKZT0"
      },
      "source": [
        "Посмотрим на какой-нибудь конкретный твитт:"
      ]
    },
    {
      "cell_type": "code",
      "execution_count": 22,
      "metadata": {
        "id": "aJVjjfqOJh8m"
      },
      "outputs": [
        {
          "data": {
            "text/plain": [
              "('Nice one @SkyNews lets not panic but show ppl in france queueing for food!!! #CoronavirusOutbreak #COVID2019 brainless!! Ffs',\n",
              " 0)"
            ]
          },
          "execution_count": 22,
          "metadata": {},
          "output_type": "execute_result"
        }
      ],
      "source": [
        "ind = 9023\n",
        "X_train.iloc[ind], y_train.iloc[ind]"
      ]
    },
    {
      "cell_type": "markdown",
      "metadata": {
        "id": "PBMIHBI5KdaS"
      },
      "source": [
        "Автор твитта не доволен ситуацией с едой во Франции и текст имеет резко негативную окраску.\n",
        "\n",
        "Применим обученный CountVectorizer для векторизации данного текста, и попытаемся определить самый важный токен и самый неважный токен (токен, компонента которого в векторе максимальна/минимальна, без учета 0)."
      ]
    },
    {
      "cell_type": "code",
      "execution_count": 23,
      "metadata": {
        "id": "7NcAllaEKsJj"
      },
      "outputs": [
        {
          "data": {
            "text/plain": [
              "('Nice one @SkyNews lets not panic but show ppl in france queueing for food!!! #CoronavirusOutbreak #COVID2019 brainless!! Ffs',\n",
              " 0,\n",
              " '#coronavirusoutbreak',\n",
              " '#coronavirusoutbreak')"
            ]
          },
          "execution_count": 23,
          "metadata": {},
          "output_type": "execute_result"
        }
      ],
      "source": [
        "tweet_text, tweet_label = X_train.iloc[ind], y_train.iloc[ind]\n",
        "\n",
        "tweet_vector = cv.transform([tweet_text])\n",
        "\n",
        "tweet_vector_array = tweet_vector.toarray()\n",
        "\n",
        "max_index = tweet_vector_array.argmax()\n",
        "min_value_indices = tweet_vector_array.nonzero()[1]\n",
        "min_index = min_value_indices[tweet_vector_array[0, min_value_indices].argmin()]\n",
        "\n",
        "max_token = [token for token, index in cv.vocabulary_.items() if index == max_index][0]\n",
        "min_token = [token for token, index in cv.vocabulary_.items() if index == min_index][0]\n",
        "\n",
        "tweet_text, tweet_label, max_token, min_token"
      ]
    },
    {
      "cell_type": "markdown",
      "metadata": {},
      "source": [
        "Определилось плохо я думаю так как каждый из токенов имеет одинаковый вес или вовсе у нас токен оказался единственным"
      ]
    },
    {
      "cell_type": "markdown",
      "metadata": {
        "id": "w4DsEQpLO3J6"
      },
      "source": [
        "Теперь примените TfidfVectorizer и  определите самый важный/неважный токены. Хорошо ли определились, почему?"
      ]
    },
    {
      "cell_type": "code",
      "execution_count": 24,
      "metadata": {
        "id": "uSNzdK3ENGB3"
      },
      "outputs": [
        {
          "data": {
            "text/plain": [
              "('brainless', 'food')"
            ]
          },
          "execution_count": 24,
          "metadata": {},
          "output_type": "execute_result"
        }
      ],
      "source": [
        "from sklearn.feature_extraction.text import TfidfVectorizer\n",
        "\n",
        "tfidf = TfidfVectorizer(tokenizer=custom_tokenizer)\n",
        "tfidf.fit(X_train)\n",
        "\n",
        "tweet_tfidf_vector = tfidf.transform([tweet_text])\n",
        "\n",
        "tweet_tfidf_vector_array = tweet_tfidf_vector.toarray()\n",
        "\n",
        "max_tfidf_index = tweet_tfidf_vector_array.argmax()\n",
        "min_tfidf_value_indices = tweet_tfidf_vector_array.nonzero()[1]\n",
        "min_tfidf_index = min_tfidf_value_indices[tweet_tfidf_vector_array[0, min_tfidf_value_indices].argmin()]\n",
        "\n",
        "max_tfidf_token = [token for token, index in tfidf.vocabulary_.items() if index == max_tfidf_index][0]\n",
        "min_tfidf_token = [token for token, index in tfidf.vocabulary_.items() if index == min_tfidf_index][0]\n",
        "\n",
        "max_tfidf_token, min_tfidf_token\n"
      ]
    },
    {
      "cell_type": "markdown",
      "metadata": {
        "id": "NYao_UhqQADm"
      },
      "source": [
        "Токен brainless имеет максимальное значение TF-IDF в данном твитте. Это означает, что он относительно редко встречается во всем корпусе данных, но в этом конкретном твитте его важность высока. Этот токен точно отражает негативное отношение автора твитта, что делает его идеальным кандидатом на роль самого значимого токена в контексте анализа сентиментов.\n",
        "\n",
        "food имеет наименьшее значение TF-IDF среди ненулевых значений. Это указывает на то, что слово довольно общее и часто используется в других твитах, поэтому его специфическая важность в данном контексте ниже, чем у других более уникальных токенов."
      ]
    },
    {
      "cell_type": "markdown",
      "metadata": {
        "id": "JVEuZm8BHms6"
      },
      "source": [
        "##  Обучение первых моделей"
      ]
    },
    {
      "cell_type": "markdown",
      "metadata": {
        "id": "JADkO3sfXdOG"
      },
      "source": [
        "Применим оба векторайзера для получения матриц с признаками текстов. Выделим целевую переменную."
      ]
    },
    {
      "cell_type": "code",
      "execution_count": 27,
      "metadata": {
        "id": "DguoiXhCX2oN"
      },
      "outputs": [
        {
          "data": {
            "text/plain": [
              "((23410, 44104), (10034, 44104), (23410, 44104), (10034, 44104))"
            ]
          },
          "execution_count": 27,
          "metadata": {},
          "output_type": "execute_result"
        }
      ],
      "source": [
        "X_train_count_features = cv.transform(X_train)\n",
        "X_test_count_features = cv.transform(X_test)\n",
        "\n",
        "X_train_tfidf_features = tfidf.transform(X_train)\n",
        "X_test_tfidf_features = tfidf.transform(X_test)\n",
        "\n",
        "X_train_count_features.shape, X_test_count_features.shape, X_train_tfidf_features.shape, X_test_tfidf_features.shape\n"
      ]
    },
    {
      "cell_type": "markdown",
      "metadata": {
        "id": "_FX1KSOfYSx4"
      },
      "source": [
        "Обучим логистическую регрессию на векторах из обоих векторайзеров. Посчитаем долю правильных ответов на обучающих и тестовых данных."
      ]
    },
    {
      "cell_type": "code",
      "execution_count": 28,
      "metadata": {
        "id": "-Tb3eh8UXJ6v"
      },
      "outputs": [
        {
          "data": {
            "text/plain": [
              "((0.9841520717642034, 0.8667530396651385),\n",
              " (0.9250747543784708, 0.8536974287422763))"
            ]
          },
          "execution_count": 28,
          "metadata": {},
          "output_type": "execute_result"
        }
      ],
      "source": [
        "from sklearn.linear_model import LogisticRegression\n",
        "from sklearn.metrics import accuracy_score\n",
        "\n",
        "log_reg_count = LogisticRegression(max_iter=1000)\n",
        "log_reg_count.fit(X_train_count_features, y_train)\n",
        "\n",
        "y_train_pred_count = log_reg_count.predict(X_train_count_features)\n",
        "y_test_pred_count = log_reg_count.predict(X_test_count_features)\n",
        "train_accuracy_count = accuracy_score(y_train, y_train_pred_count)\n",
        "test_accuracy_count = accuracy_score(y_test, y_test_pred_count)\n",
        "\n",
        "log_reg_tfidf = LogisticRegression(max_iter=1000)\n",
        "log_reg_tfidf.fit(X_train_tfidf_features, y_train)\n",
        "\n",
        "y_train_pred_tfidf = log_reg_tfidf.predict(X_train_tfidf_features)\n",
        "y_test_pred_tfidf = log_reg_tfidf.predict(X_test_tfidf_features)\n",
        "train_accuracy_tfidf = accuracy_score(y_train, y_train_pred_tfidf)\n",
        "test_accuracy_tfidf = accuracy_score(y_test, y_test_pred_tfidf)\n",
        "\n",
        "(train_accuracy_count, test_accuracy_count), (train_accuracy_tfidf, test_accuracy_tfidf)\n"
      ]
    },
    {
      "cell_type": "markdown",
      "metadata": {
        "id": "8y_wO7rCmv7K"
      },
      "source": [
        "Результаты логистической регрессии:\n",
        "Модель на основе CountVectorizer:\n",
        "* Точность на обучающем наборе: 98.41%\n",
        "* Точность на тестовом наборе: 86.63%\n",
        "\n",
        "Модель на основе TfidfVectorizer:\n",
        "* Точность на обучающем наборе: 92.57%\n",
        "* Точность на тестовом наборе: 85.36%\n",
        "\n",
        "CountVectorizer показал лучшие результаты как на обучающих, так и на тестовых данных по сравнению с TfidfVectorizer. Это может указывать на то, что частоты токенов (количество упоминаний слов) в данном контексте дают более сильные признаки для модели, чем взвешенные частоты, учитывающие редкость слова по всему корпусу (TF-IDF)."
      ]
    },
    {
      "cell_type": "markdown",
      "metadata": {
        "id": "rSOR1i3mjrys"
      },
      "source": [
        "## Стемминг"
      ]
    },
    {
      "cell_type": "markdown",
      "metadata": {
        "id": "i6ONBWNPjuq-"
      },
      "source": [
        "Для уменьшения словаря можно использовать стемминг.\n",
        "\n",
        "Модифицируем написанный токенайзер, добавив в него стемминг с использованием SnowballStemmer. Обучим Count- и Tfidf- векторайзеры"
      ]
    },
    {
      "cell_type": "code",
      "execution_count": 29,
      "metadata": {
        "id": "oVfA2-iMkQBb"
      },
      "outputs": [
        {
          "name": "stderr",
          "output_type": "stream",
          "text": [
            "c:\\Users\\BRIGPC\\AppData\\Local\\Programs\\Python\\Python312\\Lib\\site-packages\\sklearn\\feature_extraction\\text.py:525: UserWarning: The parameter 'token_pattern' will not be used since 'tokenizer' is not None'\n",
            "  warnings.warn(\n"
          ]
        },
        {
          "data": {
            "text/plain": [
              "(35451, 35451)"
            ]
          },
          "execution_count": 29,
          "metadata": {},
          "output_type": "execute_result"
        }
      ],
      "source": [
        "from nltk.stem.snowball import SnowballStemmer\n",
        "\n",
        "stemmer = SnowballStemmer(\"english\")\n",
        "\n",
        "def custom_stem_tokenizer(text):\n",
        "    text = text.lower()\n",
        "    \n",
        "    tokenizer = TweetTokenizer()\n",
        "    initial_tokens = tokenizer.tokenize(text)\n",
        "    \n",
        "    tokens = [\n",
        "        stemmer.stem(token) for token in initial_tokens\n",
        "        if token not in stop_words\n",
        "        and token not in punctuation\n",
        "        and len(token) > 1\n",
        "        and all(ord(char) < 128 for char in token)\n",
        "        and not token.startswith('https://t.co')\n",
        "    ]\n",
        "    \n",
        "    return tokens\n",
        "\n",
        "cv_stem = CountVectorizer(tokenizer=custom_stem_tokenizer)\n",
        "cv_stem.fit(X_train)\n",
        "\n",
        "tfidf_stem = TfidfVectorizer(tokenizer=custom_stem_tokenizer)\n",
        "tfidf_stem.fit(X_train)\n",
        "\n",
        "vocabulary_size_stem_cv = len(cv_stem.vocabulary_)\n",
        "vocabulary_size_stem_tfidf = len(tfidf_stem.vocabulary_)\n",
        "\n",
        "vocabulary_size_stem_cv, vocabulary_size_stem_tfidf\n"
      ]
    },
    {
      "cell_type": "code",
      "execution_count": 30,
      "metadata": {
        "colab": {
          "base_uri": "https://localhost:8080/"
        },
        "id": "9QmrjYtqnlPd",
        "outputId": "cd91291d-9676-4611-9fc4-28afaed58963"
      },
      "outputs": [
        {
          "data": {
            "text/plain": [
              "['sampl', 'text', '@sample_text', '#sampletext', 'ad', 'word', 'check', 'stem']"
            ]
          },
          "execution_count": 30,
          "metadata": {},
          "output_type": "execute_result"
        }
      ],
      "source": [
        "custom_stem_tokenizer('This is sample text!!!! @Sample_text I, \\x92\\x92 https://t.co/sample  #sampletext adding more words to check stemming')"
      ]
    },
    {
      "cell_type": "markdown",
      "metadata": {
        "id": "Oyzs5TaAoHP6"
      },
      "source": [
        "Размер словаря уменьшился по сравнению с предыдущими векторайзерами без стемминга (44,104). Это произошло потому, что стемминг уменьшает слова до их корневой формы, сокращая количество вариантов одного и того же слова"
      ]
    },
    {
      "cell_type": "markdown",
      "metadata": {
        "id": "1OkncHI8oRmd"
      },
      "source": [
        "Обучим логистическую регрессию с использованием обоих векторайзеров."
      ]
    },
    {
      "cell_type": "code",
      "execution_count": 31,
      "metadata": {
        "id": "ykZJPphEoZ5W"
      },
      "outputs": [
        {
          "data": {
            "text/plain": [
              "((0.970824434002563, 0.8669523619693044),\n",
              " (0.9136266552755233, 0.8556906517839347))"
            ]
          },
          "execution_count": 31,
          "metadata": {},
          "output_type": "execute_result"
        }
      ],
      "source": [
        "X_train_count_features_stem = cv_stem.transform(X_train)\n",
        "X_test_count_features_stem = cv_stem.transform(X_test)\n",
        "X_train_tfidf_features_stem = tfidf_stem.transform(X_train)\n",
        "X_test_tfidf_features_stem = tfidf_stem.transform(X_test)\n",
        "\n",
        "log_reg_count_stem = LogisticRegression(max_iter=1000)\n",
        "log_reg_count_stem.fit(X_train_count_features_stem, y_train)\n",
        "y_train_pred_count_stem = log_reg_count_stem.predict(X_train_count_features_stem)\n",
        "y_test_pred_count_stem = log_reg_count_stem.predict(X_test_count_features_stem)\n",
        "\n",
        "log_reg_tfidf_stem = LogisticRegression(max_iter=1000)\n",
        "log_reg_tfidf_stem.fit(X_train_tfidf_features_stem, y_train)\n",
        "y_train_pred_tfidf_stem = log_reg_tfidf_stem.predict(X_train_tfidf_features_stem)\n",
        "y_test_pred_tfidf_stem = log_reg_tfidf_stem.predict(X_test_tfidf_features_stem)\n",
        "\n",
        "train_accuracy_count_stem = accuracy_score(y_train, y_train_pred_count_stem)\n",
        "test_accuracy_count_stem = accuracy_score(y_test, y_test_pred_count_stem)\n",
        "train_accuracy_tfidf_stem = accuracy_score(y_train, y_train_pred_tfidf_stem)\n",
        "test_accuracy_tfidf_stem = accuracy_score(y_test, y_test_pred_tfidf_stem)\n",
        "\n",
        "(train_accuracy_count_stem, test_accuracy_count_stem), (train_accuracy_tfidf_stem, test_accuracy_tfidf_stem)\n"
      ]
    },
    {
      "cell_type": "markdown",
      "metadata": {
        "id": "bCRlrODro0h8"
      },
      "source": [
        "Сравнение с предыдущими результатами без стемминга:\n",
        "Для CountVectorizer:\n",
        "* Обучающий набор: было 98.41%, стало 97.05% (уменьшение)\n",
        "* Тестовый набор: было 86.63%, стало 86.69% (небольшое улучшение)\n",
        "\n",
        "Для TfidfVectorizer:\n",
        "* Обучающий набор: было 92.57%, стало 91.55% (уменьшение)\n",
        "* Тестовый набор: было 85.36%, стало 85.50% (небольшое улучшение)\n",
        "\n",
        "Применение стемминга может быть полезным, поскольку оно помогает уменьшить размер словаря и улучшить обобщающую способность модели без значительной потери точности. Это делает модель более простой и потенциально уменьшает риск переобучения."
      ]
    },
    {
      "cell_type": "markdown",
      "metadata": {
        "id": "hYWGQNEDqLC-"
      },
      "source": [
        "## Работа с частотами"
      ]
    },
    {
      "cell_type": "markdown",
      "metadata": {
        "id": "8Hq-tl5mqUSn"
      },
      "source": [
        "Еще один способ уменьшить количество признаков - это использовать параметры min_df и max_df при построении векторайзера  эти параметры помогают ограничить требуемую частоту встречаемости токена в документах.\n",
        "\n",
        "По умолчанию берутся все токены, которые встретились хотя бы один раз.\n",
        "\n"
      ]
    },
    {
      "cell_type": "markdown",
      "metadata": {
        "id": "m1SiD4DE3WZ2"
      },
      "source": [
        "Подберем max_df такой, что размер словаря будет на 1 меньше чем было, в моем случае 35451."
      ]
    },
    {
      "cell_type": "code",
      "execution_count": 32,
      "metadata": {
        "colab": {
          "base_uri": "https://localhost:8080/"
        },
        "id": "o3YLb8PViExb",
        "outputId": "b6d67654-d232-4e11-a5ca-6f2145053e98"
      },
      "outputs": [
        {
          "name": "stderr",
          "output_type": "stream",
          "text": [
            "c:\\Users\\BRIGPC\\AppData\\Local\\Programs\\Python\\Python312\\Lib\\site-packages\\sklearn\\feature_extraction\\text.py:525: UserWarning: The parameter 'token_pattern' will not be used since 'tokenizer' is not None'\n",
            "  warnings.warn(\n"
          ]
        },
        {
          "name": "stdout",
          "output_type": "stream",
          "text": [
            "0.97\n",
            "0.96\n",
            "0.95\n",
            "0.94\n",
            "0.9299999999999999\n",
            "0.9199999999999999\n",
            "0.9099999999999999\n",
            "0.8999999999999999\n",
            "0.8899999999999999\n",
            "0.8799999999999999\n",
            "0.8699999999999999\n",
            "0.8599999999999999\n",
            "0.8499999999999999\n",
            "0.8399999999999999\n",
            "0.8299999999999998\n",
            "0.8199999999999998\n",
            "0.8099999999999998\n",
            "0.7999999999999998\n",
            "0.7899999999999998\n",
            "0.7799999999999998\n",
            "0.7699999999999998\n",
            "0.7599999999999998\n",
            "0.7499999999999998\n",
            "0.7399999999999998\n",
            "0.7299999999999998\n",
            "0.7199999999999998\n",
            "0.7099999999999997\n",
            "0.6999999999999997\n",
            "0.6899999999999997\n",
            "0.6799999999999997\n",
            "0.6699999999999997\n",
            "0.6599999999999997\n",
            "0.6499999999999997\n",
            "0.6399999999999997\n",
            "0.6299999999999997\n",
            "0.6199999999999997\n",
            "0.6099999999999997\n",
            "0.5999999999999996\n",
            "0.5899999999999996\n",
            "0.5799999999999996\n",
            "0.5699999999999996\n",
            "0.5599999999999996\n",
            "0.5499999999999996\n",
            "0.5399999999999996\n",
            "0.5299999999999996\n",
            "0.5199999999999996\n",
            "0.5099999999999996\n",
            "0.49999999999999956\n",
            "0.48999999999999955\n",
            "0.47999999999999954\n",
            "0.46999999999999953\n",
            "0.4599999999999995\n",
            "0.4499999999999995\n",
            "0.4399999999999995\n",
            "0.4299999999999995\n",
            "0.4199999999999995\n",
            "0.4099999999999995\n",
            "0.39999999999999947\n",
            "0.38999999999999946\n",
            "0.37999999999999945\n",
            "0.36999999999999944\n"
          ]
        },
        {
          "data": {
            "text/plain": [
              "(35450, 0.36999999999999944)"
            ]
          },
          "execution_count": 32,
          "metadata": {},
          "output_type": "execute_result"
        }
      ],
      "source": [
        "max_df_value = 0.98\n",
        "increment = -0.01\n",
        "\n",
        "while True:\n",
        "    cv_df = CountVectorizer(tokenizer=custom_stem_tokenizer, max_df=max_df_value)\n",
        "    cv_df.fit(X_train)\n",
        "    if len(cv_df.vocabulary_) <= 35450:\n",
        "        break\n",
        "    max_df_value += increment\n",
        "    print(max_df_value)\n",
        "\n",
        "len(cv_df.vocabulary_), max_df_value\n"
      ]
    },
    {
      "cell_type": "markdown",
      "metadata": {
        "id": "UdZYoGZR4UsA"
      },
      "source": [
        "Значение max_df=0.37 можно рассматривать как довольно высокое для параметра, который определяет верхний порог частоты встречаемости слов в документах. Это означает, что мы исключаем из анализа только те слова, которые встречаются более чем в 37% документов."
      ]
    },
    {
      "cell_type": "markdown",
      "metadata": {
        "id": "_gRIUaB1u32f"
      },
      "source": [
        "Подберем min_df (используйте дефолтное значение max_df) в CountVectorizer таким образом, чтобы размер словаря был 3700 токенов (при использовании токенайзера со стеммингом), а качество осталось таким же, как и было."
      ]
    },
    {
      "cell_type": "code",
      "execution_count": 33,
      "metadata": {
        "colab": {
          "base_uri": "https://localhost:8080/"
        },
        "id": "kSnMJkn9XmsT",
        "outputId": "e0d8eb21-e5d7-46b4-e1d1-4b1ae220e9a0"
      },
      "outputs": [
        {
          "name": "stdout",
          "output_type": "stream",
          "text": [
            "0.0005 3421\n",
            "0.00049 3421\n",
            "0.00047999999999999996 3421\n",
            "0.00046999999999999993 3421\n",
            "0.0004599999999999999 3629\n",
            "0.0004499999999999999 3629\n",
            "0.00043999999999999985 3629\n",
            "0.0004299999999999998 3629\n",
            "0.0004199999999999998 3859\n"
          ]
        },
        {
          "data": {
            "text/plain": [
              "(3859, 0.0004199999999999998)"
            ]
          },
          "execution_count": 33,
          "metadata": {},
          "output_type": "execute_result"
        }
      ],
      "source": [
        "min_df_value = 0.0005\n",
        "increment = -0.00001\n",
        "\n",
        "while True:\n",
        "    cv_df = CountVectorizer(tokenizer=custom_stem_tokenizer, min_df=min_df_value)\n",
        "    cv_df.fit(X_train)\n",
        "    print(min_df_value, len(cv_df.vocabulary_))\n",
        "    if len(cv_df.vocabulary_) > 3699:\n",
        "        break\n",
        "    min_df_value += increment\n",
        "\n",
        "len(cv_df.vocabulary_), min_df_value"
      ]
    },
    {
      "cell_type": "markdown",
      "metadata": {},
      "source": [
        "Размер словаря получился 3859 вместо желаемых 3700, но это минимальное что могло получиться"
      ]
    },
    {
      "cell_type": "markdown",
      "metadata": {
        "id": "Gx_h_-inKbBl"
      },
      "source": [
        "В предыдущих пунктах признаки не скалировались. Отскалируем данные (при словаре размера 3859, векторизованные CountVectorizer), обучим логистическую регрессию, посмотрим качество и выведем `berplot` содержащий по 10 токенов, с наибольшим по модулю положительными/отрицательными весами."
      ]
    },
    {
      "cell_type": "code",
      "execution_count": 34,
      "metadata": {
        "id": "KBATXJX6LG9q"
      },
      "outputs": [
        {
          "data": {
            "image/png": "[encoded data removed]",
            "text/plain": [
              "<Figure size 1200x800 with 1 Axes>"
            ]
          },
          "metadata": {},
          "output_type": "display_data"
        },
        {
          "data": {
            "text/plain": [
              "(0.9449807774455361,\n",
              " 0.8472194538568866,\n",
              " ['hand',\n",
              "  'free',\n",
              "  'help',\n",
              "  'thank',\n",
              "  'like',\n",
              "  'best',\n",
              "  'pleas',\n",
              "  'great',\n",
              "  'safe',\n",
              "  'support'],\n",
              " ['crisi',\n",
              "  'panic',\n",
              "  'scam',\n",
              "  'kill',\n",
              "  'frighten',\n",
              "  'fear',\n",
              "  'crude',\n",
              "  'stop',\n",
              "  'fight',\n",
              "  'die'])"
            ]
          },
          "execution_count": 34,
          "metadata": {},
          "output_type": "execute_result"
        }
      ],
      "source": [
        "from sklearn.preprocessing import StandardScaler\n",
        "from sklearn.pipeline import make_pipeline\n",
        "\n",
        "cv_min_df = CountVectorizer(tokenizer=custom_stem_tokenizer, min_df=0.00042)\n",
        "cv_min_df.fit(X_train)\n",
        "X_train_count_features_min_df = cv_min_df.transform(X_train)\n",
        "X_test_count_features_min_df = cv_min_df.transform(X_test)\n",
        "\n",
        "pipeline = make_pipeline(StandardScaler(with_mean=False), LogisticRegression(max_iter=1000))\n",
        "pipeline.fit(X_train_count_features_min_df, y_train)\n",
        "\n",
        "\n",
        "y_train_pred_scaled = pipeline.predict(X_train_count_features_min_df)\n",
        "y_test_pred_scaled = pipeline.predict(X_test_count_features_min_df)\n",
        "train_accuracy_scaled = accuracy_score(y_train, y_train_pred_scaled)\n",
        "test_accuracy_scaled = accuracy_score(y_test, y_test_pred_scaled)\n",
        "\n",
        "\n",
        "model_weights = pipeline.named_steps['logisticregression'].coef_[0]\n",
        "\n",
        "\n",
        "top_positive_tokens = [token for token, weight in sorted(zip(cv_min_df.get_feature_names_out(), model_weights), key=lambda x: x[1], reverse=True)[:10]]\n",
        "top_negative_tokens = [token for token, weight in sorted(zip(cv_min_df.get_feature_names_out(), model_weights), key=lambda x: x[1])[:10]]\n",
        "\n",
        "\n",
        "import seaborn as sns\n",
        "import matplotlib.pyplot as plt\n",
        "\n",
        "fig, ax = plt.subplots(figsize=(12, 8))\n",
        "sns.barplot(x=[weight for token, weight in sorted(zip(cv_min_df.get_feature_names_out(), model_weights), key=lambda x: x[1], reverse=True)[:10] + sorted(zip(cv_min_df.get_feature_names_out(), model_weights), key=lambda x: x[1])[:10]],\n",
        "            y=[token for token, weight in sorted(zip(cv_min_df.get_feature_names_out(), model_weights), key=lambda x: x[1], reverse=True)[:10] + sorted(zip(cv_min_df.get_feature_names_out(), model_weights), key=lambda x: x[1])[:10]],\n",
        "            orient='h')\n",
        "ax.set_title('Топ 10 токенов с наибольшим по модулю весом')\n",
        "ax.set_xlabel('Вес')\n",
        "ax.set_ylabel('Токен')\n",
        "plt.show()\n",
        "\n",
        "train_accuracy_scaled, test_accuracy_scaled, top_positive_tokens, top_negative_tokens\n"
      ]
    },
    {
      "cell_type": "markdown",
      "metadata": {
        "id": "ThcEfzY1LHET"
      },
      "source": [
        "На графике представлены 10 токенов с наибольшими положительными и отрицательными весами. Эти токены являются индикаторами положительной или отрицательной эмоциональной окраски текста:\n",
        "\n",
        "Положительные токены (способствуют классификации твитта как положительного):\n",
        "Например, слова вроде hand, free, help, thank и support связаны с поддержкой, благодарностью или безопасностью, что является позитивными атрибутами.\n",
        "Отрицательные токены (способствуют классификации твитта как отрицательного):\n",
        "Слова вроде crisi, panic, scam, frighten и kill указывают на кризисные ситуации, мошенничество или страх, что является негативными атрибутами."
      ]
    }
  ],
  "metadata": {
    "colab": {
      "provenance": [],
      "toc_visible": true
    },
    "kernelspec": {
      "display_name": "Python 3",
      "name": "python3"
    },
    "language_info": {
      "codemirror_mode": {
        "name": "ipython",
        "version": 3
      },
      "file_extension": ".py",
      "mimetype": "text/x-python",
      "name": "python",
      "nbconvert_exporter": "python",
      "pygments_lexer": "ipython3",
      "version": "3.12.1"
    }
  },
  "nbformat": 4,
  "nbformat_minor": 0
}
